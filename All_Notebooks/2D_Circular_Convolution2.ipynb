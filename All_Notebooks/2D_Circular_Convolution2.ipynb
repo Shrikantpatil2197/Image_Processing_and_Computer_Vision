{
 "cells": [
  {
   "cell_type": "markdown",
   "metadata": {},
   "source": [
    "###Q.3(a) Write python from scratch for 2D Circular convolution using  Doubly Block Circulant matrices method between input=np.array([[1,2,3],[4,5,6],[7,8,9]])and filter=np.array([[1,2,1],[0,0,0],[-1,-2,-1]])"
   ]
  },
  {
   "cell_type": "code",
   "execution_count": 4,
   "metadata": {},
   "outputs": [
    {
     "name": "stdout",
     "output_type": "stream",
     "text": [
      "Input Shape:  (3, 3)\n",
      "Input Matrix:\n",
      " [[1 2 3]\n",
      " [4 5 6]\n",
      " [7 8 9]]\n",
      "Filter1 Shape:  (3, 3)\n",
      "Filter Matrix:\n",
      " [[ 1  2  1]\n",
      " [ 0  0  0]\n",
      " [-1 -2 -1]]\n",
      "Final Toeplitz matrix:\n",
      " [[ 1  1  2 -1 -1 -2  0  0  0]\n",
      " [ 2  1  1 -2 -1 -1  0  0  0]\n",
      " [ 1  2  1 -1 -2 -1  0  0  0]\n",
      " [ 0  0  0  1  1  2 -1 -1 -2]\n",
      " [ 0  0  0  2  1  1 -2 -1 -1]\n",
      " [ 0  0  0  1  2  1 -1 -2 -1]\n",
      " [-1 -1 -2  0  0  0  1  1  2]\n",
      " [-2 -1 -1  0  0  0  2  1  1]\n",
      " [-1 -2 -1  0  0  0  1  2  1]]\n",
      "Output:\n",
      " [[-12 -12 -12]\n",
      " [-12 -12 -12]\n",
      " [ 24  24  24]]\n"
     ]
    }
   ],
   "source": [
    "import numpy as np\n",
    "\n",
    "input1 = np.array([[1, 2, 3], [4, 5, 6], [7, 8, 9]])\n",
    "print('Input Shape: ', input1.shape)\n",
    "print('Input Matrix:\\n',input1)\n",
    "\n",
    "f = np.array([[1, 2, 1], [0, 0, 0], [-1, -2, -1]])\n",
    "print('Filter1 Shape: ', f.shape)\n",
    "print('Filter Matrix:\\n',f)\n",
    "\n",
    "for j in range(3):\n",
    "    locals()[\"H\"+str(j)]=f[j,:]\n",
    "    for i in range(2):\n",
    "        temp=np.roll(f[j,:],i+1)\n",
    "        locals()[\"H\"+str(j)]=np.c_[locals()[\"H\"+str(j)],temp]\n",
    "\n",
    "    #Toeplitz matrix\n",
    "mat=H0\n",
    "for j in range(1,3,1):\n",
    "    mat=np.r_[mat,locals()[\"H\"+str(j)]]\n",
    "\n",
    "H_matrix=mat\n",
    "for i in range(1,3,1):\n",
    "    temp=np.roll(mat,i*3,axis=0)\n",
    "    H_matrix=np.c_[H_matrix,temp]\n",
    "print('Final Toeplitz matrix:\\n',H_matrix)\n",
    "\n",
    "    #input vector\n",
    "f=input1[0,:]\n",
    "for j in range(1,3,1):\n",
    "    temp=input1[j,:]\n",
    "    f=np.r_[f,temp]  \n",
    "\n",
    "    #output    \n",
    "output=np.matmul(H_matrix,f)\n",
    "output=output.reshape((3,3))\n",
    "print('Output:\\n',output)\n",
    "\n",
    "\n",
    "\n",
    "\n",
    "\n",
    "   "
   ]
  },
  {
   "cell_type": "code",
   "execution_count": null,
   "metadata": {},
   "outputs": [],
   "source": []
  },
  {
   "cell_type": "code",
   "execution_count": null,
   "metadata": {},
   "outputs": [],
   "source": []
  },
  {
   "cell_type": "code",
   "execution_count": null,
   "metadata": {},
   "outputs": [],
   "source": []
  },
  {
   "cell_type": "code",
   "execution_count": null,
   "metadata": {},
   "outputs": [],
   "source": []
  },
  {
   "cell_type": "code",
   "execution_count": null,
   "metadata": {},
   "outputs": [],
   "source": []
  },
  {
   "cell_type": "code",
   "execution_count": null,
   "metadata": {},
   "outputs": [],
   "source": []
  },
  {
   "cell_type": "code",
   "execution_count": null,
   "metadata": {},
   "outputs": [],
   "source": []
  },
  {
   "cell_type": "code",
   "execution_count": null,
   "metadata": {},
   "outputs": [],
   "source": []
  },
  {
   "cell_type": "code",
   "execution_count": null,
   "metadata": {},
   "outputs": [],
   "source": []
  }
 ],
 "metadata": {
  "kernelspec": {
   "display_name": "Python 3",
   "language": "python",
   "name": "python3"
  },
  "language_info": {
   "codemirror_mode": {
    "name": "ipython",
    "version": 3
   },
   "file_extension": ".py",
   "mimetype": "text/x-python",
   "name": "python",
   "nbconvert_exporter": "python",
   "pygments_lexer": "ipython3",
   "version": "3.8.3"
  }
 },
 "nbformat": 4,
 "nbformat_minor": 4
}
