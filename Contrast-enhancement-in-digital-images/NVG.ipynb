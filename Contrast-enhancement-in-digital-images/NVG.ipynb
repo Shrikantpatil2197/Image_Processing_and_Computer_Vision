{
 "cells": [
  {
   "cell_type": "code",
   "execution_count": 2,
   "metadata": {},
   "outputs": [
    {
     "name": "stdout",
     "output_type": "stream",
     "text": [
      "Enter choice as 1 or 2\n",
      "2\n",
      "(960, 720)\n",
      "(960, 720)\n"
     ]
    },
    {
     "data": {
      "image/png": "[encoded data removed]",
      "text/plain": [
       "<Figure size 432x288 with 4 Axes>"
      ]
     },
     "metadata": {
      "needs_background": "light"
     },
     "output_type": "display_data"
    }
   ],
   "source": [
    "from scipy import signal \n",
    "import matplotlib.pyplot as plt\n",
    "import numpy as np\n",
    "import numpy.matlib\n",
    "from numpy import pi\n",
    "import cv2\n",
    "\n",
    "def NVG(choice):\n",
    "    image = 'contrast.jpg'\n",
    "    if choice == 1:\n",
    "        I = np.float64(cv2.imread(image))/255\n",
    "        I = np.mean(I,2)\n",
    "        sigma = 2\n",
    "        #Calculates the DFT of the image\n",
    "        DFT2d_I = np.fft.fft2(I)\n",
    "\n",
    "        #Calculation of the Gaussian\n",
    "        xsize , ysize = I.shape\n",
    "        Nr = np.fft.ifftshift(list(range(int(-np.fix(ysize/2)),int(np.ceil(ysize/2)))))\n",
    "        Nc = np.fft.ifftshift(list(range(int(-np.fix(xsize/2)),int(np.ceil(xsize/2)))))\n",
    "        Nc, Nr = np.meshgrid(Nc, Nr)\n",
    "        dft_gauss_kernel = np.exp(-2*(sigma**2)*(pi**2)*((Nr/ysize)**2+(Nc/xsize)**2))\n",
    "\n",
    "        #Convolution with the Gaussian (fft (I). * Fft (G))\n",
    "        DFT2d_I_convolved = DFT2d_I * np.matlib.repmat(dft_gauss_kernel,1,1).T\n",
    "        I_convolved = np.fft.ifft(DFT2d_I_convolved)\n",
    "        M = np.real(I_convolved)\n",
    "\n",
    "        output = np.zeros((xsize,ysize))\n",
    "        for i in range(xsize):\n",
    "            for j in range(ysize):\n",
    "                output[i][j] = (I[i][j])**(2**(2*M[i][j]-1))\n",
    "        plt.figure()\n",
    "        plt.subplot(2,2,1)\n",
    "        plt.imshow(I,cmap='gray')\n",
    "        plt.title('Original Image')\n",
    "        plt.subplot(2,2,2)\n",
    "        plt.imshow(output,cmap='gray') \n",
    "        plt.title('Resultant')\n",
    "        plt.subplot ( 2 , 2 , 3 ) \n",
    "        plt.hist(I) \n",
    "        plt.title (' Histogram before ')\n",
    "        plt.subplot ( 2 , 2 , 4 ) \n",
    "        plt.hist(output) \n",
    "        plt.title ( ' Histogram after ' )\n",
    "\n",
    "    \n",
    "    else:\n",
    "        \n",
    "        #read image\n",
    "        I = np.float64(cv2.imread(image))\n",
    "        I = np.mean(I,2)\n",
    "\n",
    "        #Calculates the inverse image\n",
    "        Inv = 255 - I\n",
    "\n",
    "        #Calculates the DFT\n",
    "        DFT2d_I = np.fft.fft2(Inv)\n",
    "\n",
    "        #Gaussian Caclule\n",
    "        sigma=2;\n",
    "        xsize , ysize= I.shape\n",
    "        Nr = np.fft.ifftshift(list(range(int(-np.fix(ysize/2)),int(np.ceil(ysize/2)))))\n",
    "        Nc = np.fft.ifftshift(list(range(int(-np.fix(xsize/2)),int(np.ceil(xsize/2)))))\n",
    "        Nc, Nr = np.meshgrid(Nc, Nr)\n",
    "        dft_gauss_kernel = np.exp(-2*(sigma**2)*(pi**2)*((Nr/ysize)**2+(Nc/xsize)**2))\n",
    "\n",
    "        #Convolution with the Gaussian (fft (I). * Fft (G))\n",
    "        DFT2d_I_convolved = DFT2d_I * np.matlib.repmat(dft_gauss_kernel,1,1).T\n",
    "        I_convolved = np.fft.ifft(DFT2d_I_convolved)\n",
    "        M = np.real(I_convolved)\n",
    "\n",
    "\n",
    "        output = np.zeros((xsize,ysize))\n",
    "        for i in range(xsize):\n",
    "            for j in range(ysize):\n",
    "                output[i][j] = 255.0*((I[i][j]/255.0)**(2**((128.0-M[i][j]/128.0))))\n",
    "        print(I.shape)\n",
    "        print(output.shape)\n",
    "        plt.figure()\n",
    "        plt.subplot(2,2,1)\n",
    "        plt.imshow(I,cmap='gray')\n",
    "        plt.title('Original Image')\n",
    "        plt.subplot(2,2,2)\n",
    "        plt.imshow(output,cmap='gray') \n",
    "        plt.title('Resultant')\n",
    "        plt.subplot ( 2 , 2 , 3 ) \n",
    "        plt.hist(I) \n",
    "        plt.title (' Histogram before ')\n",
    "        plt.subplot ( 2 , 2 , 4 ) \n",
    "        plt.hist(output) \n",
    "        plt.title ( ' Histogram after ' )\n",
    "\n",
    "choice = int(input('Enter choice as 1 or 2\\n'))\n",
    "NVG(choice)"
   ]
  },
  {
   "cell_type": "code",
   "execution_count": null,
   "metadata": {},
   "outputs": [],
   "source": []
  }
 ],
 "metadata": {
  "kernelspec": {
   "display_name": "Python 3",
   "language": "python",
   "name": "python3"
  },
  "language_info": {
   "codemirror_mode": {
    "name": "ipython",
    "version": 3
   },
   "file_extension": ".py",
   "mimetype": "text/x-python",
   "name": "python",
   "nbconvert_exporter": "python",
   "pygments_lexer": "ipython3",
   "version": "3.8.3"
  }
 },
 "nbformat": 4,
 "nbformat_minor": 4
}
