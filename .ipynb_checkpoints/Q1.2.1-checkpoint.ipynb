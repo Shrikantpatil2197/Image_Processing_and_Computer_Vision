{
 "cells": [
  {
   "cell_type": "code",
   "execution_count": null,
   "metadata": {},
   "outputs": [],
   "source": [
    "import cv2\n",
    "import numpy as np\n",
    "from scipy import io, integrate, linalg, signal\n",
    "from scipy.sparse.linalg import eigs\n",
    "import matplotlib.pyplot as plt\n",
    "import math\n",
    "\n",
    "def SimplestColorBalanceNVG(image, s):\n",
    "    imagedata = double(image)\n",
    "    imagedata = np.mean(image,axis = 2)\n",
    "    plt.imshow(image)\n",
    "    plt.title('Original')\n",
    "    pagesize = np.size(imagedata)\n",
    "    vector = np.reshape(imagedata,(pagesize,1))\n",
    "    vector_n = np.sort(vector)\n",
    "    s1 = s/2\n",
    "    s2 = s1\n",
    "    pos_v_min = math.floor(pagesize * s1/100)\n",
    "    pos_v_max = math.floor((pagesize*(1-(s2/100)))-1)\n",
    "    v_min = vector_n[pos_v_min]\n",
    "    v_max = vector_n[pos_v_max]\n",
    "    for i in range(np.size(vector_n)):\n",
    "        if vector_n[i] > v_max:\n",
    "            vector_n[i] = v_max\n",
    "        elif vector_n[i] < v_min:\n",
    "            vector_n[i] = v_min\n",
    "    \n",
    "    for i in range(np.size(vector_n)):\n",
    "        vector_n[i] = ((vector_n[i]-v_min) * (255-0) )/((v_max-v_min) + 0 )\n",
    "    \n",
    "    result = np.reshape(vector_n,imagedata.shape)\n",
    "    plt.imshow(result/255)\n",
    "    plt.title('result')\n",
    "      \n",
    "img = cv2.imread('')\n",
    "plt.imshow(img)\n",
    "plt.show()\n",
    "SimplestColorBalanceNVG(img,0.2)"
   ]
  }
 ],
 "metadata": {
  "kernelspec": {
   "display_name": "Python 3",
   "language": "python",
   "name": "python3"
  },
  "language_info": {
   "codemirror_mode": {
    "name": "ipython",
    "version": 3
   },
   "file_extension": ".py",
   "mimetype": "text/x-python",
   "name": "python",
   "nbconvert_exporter": "python",
   "pygments_lexer": "ipython3",
   "version": "3.8.3"
  }
 },
 "nbformat": 4,
 "nbformat_minor": 4
}
