{
 "cells": [
  {
   "cell_type": "markdown",
   "metadata": {},
   "source": [
    "###(a) Write python from scratch for computing 2D DFT{X(k,l)} of the following 2D array\n",
    "\n",
    " (i) x(m,n) = np.array([[1, 0],[2, 1]])\n",
    " \n",
    " (ii) x(m,n) = np.array([[1,2, 3,4], [5, 6, 7, 8], [9,10,11,12], [13,14,15,16]])"
   ]
  },
  {
   "cell_type": "code",
   "execution_count": 12,
   "metadata": {},
   "outputs": [
    {
     "name": "stdout",
     "output_type": "stream",
     "text": [
      "input1:\n",
      " [[1 0]\n",
      " [2 1]]\n",
      "output1:\n",
      " [[ 4.+0.0000000e+00j  2.-1.2246468e-16j]\n",
      " [-2.-3.6739404e-16j  0.+0.0000000e+00j]]\n",
      "input2:\n",
      " [[ 1  2  3  4]\n",
      " [ 5  6  7  8]\n",
      " [ 9 10 11 12]\n",
      " [13 14 15 16]]\n",
      "output2:\n",
      " [[ 1.36000000e+02+0.00000000e+00j -8.00000000e+00+8.00000000e+00j\n",
      "  -8.00000000e+00-9.79717439e-15j -8.00000000e+00-8.00000000e+00j]\n",
      " [-3.20000000e+01+3.20000000e+01j  3.55271368e-15+1.22712272e-15j\n",
      "   2.50990696e-15+0.00000000e+00j -2.13162821e-14+6.42753875e-15j]\n",
      " [-3.20000000e+01-1.42059029e-14j  3.48838644e-15+0.00000000e+00j\n",
      "   0.00000000e+00+2.44929360e-15j -6.79864668e-14+3.55271368e-15j]\n",
      " [-3.20000000e+01-3.20000000e+01j -2.48689958e-14+2.87482507e-15j\n",
      "  -8.31807528e-14+3.55271368e-15j -5.68434189e-14+1.90501133e-15j]]\n"
     ]
    }
   ],
   "source": [
    "def DFT(input_mat):\n",
    "    m, n = input_mat.shape\n",
    "    dft = np.zeros((m, n),dtype=complex)\n",
    "    for u in range(m):\n",
    "        for v in range(n):\n",
    "            mat_sum = 0\n",
    "            for k in range(m):\n",
    "                for l in range(n):\n",
    "                    w = cmath.exp(- 2j * np.pi * ((u * k) / m + (v * l) / n))\n",
    "                    mat_sum +=  w * input_mat[k,l]\n",
    "            \n",
    "            dft[u,v] = mat_sum\n",
    "                \n",
    "    return dft\n",
    "\n",
    "import numpy as np\n",
    "import cmath\n",
    "\n",
    "#Q.2 a\n",
    "input1 = np.array([[1, 0],[2, 1]])  \n",
    "print('input1:\\n',input1)\n",
    "output1 = DFT(input1)\n",
    "print('output1:\\n',output1)\n",
    "\n",
    "#Q.2 b\n",
    "input2 = np.array([[1, 2, 3, 4], [5, 6, 7, 8], [9, 10, 11, 12], [13, 14, 15, 16]])\n",
    "print('input2:\\n',input2)\n",
    "output2 = DFT(input2)\n",
    "print('output2:\\n',output2)"
   ]
  },
  {
   "cell_type": "code",
   "execution_count": null,
   "metadata": {},
   "outputs": [],
   "source": []
  }
 ],
 "metadata": {
  "kernelspec": {
   "display_name": "Python 3",
   "language": "python",
   "name": "python3"
  },
  "language_info": {
   "codemirror_mode": {
    "name": "ipython",
    "version": 3
   },
   "file_extension": ".py",
   "mimetype": "text/x-python",
   "name": "python",
   "nbconvert_exporter": "python",
   "pygments_lexer": "ipython3",
   "version": "3.8.3"
  }
 },
 "nbformat": 4,
 "nbformat_minor": 4
}
